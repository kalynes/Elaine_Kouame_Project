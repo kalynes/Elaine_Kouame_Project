{
 "cells": [
  {
   "cell_type": "code",
   "execution_count": 1,
   "metadata": {
    "collapsed": false
   },
   "outputs": [],
   "source": [
    "import openpyxl #open python library for reading and writing excel"
   ]
  },
  {
   "cell_type": "code",
   "execution_count": 2,
   "metadata": {
    "collapsed": false
   },
   "outputs": [],
   "source": [
    "wb = openpyxl.load_workbook(\"../ceprika/Desktop/Organized Data for project.xlsx\")\n",
    "      # openpyxl.load_workbook() function takes in the filename and returns a value of the workbook data type.\n",
    "     # open the excel workbook called organized data for project and save it as wb\n",
    "    # The openpyxl.load_workbook() function takes in the filename and returns a value of the workbook data type."
   ]
  },
  {
   "cell_type": "code",
   "execution_count": 3,
   "metadata": {
    "collapsed": false
   },
   "outputs": [],
   "source": [
    "sheet = wb.get_sheet_by_name (\"IRF1 KO\")\n",
    "#get IRF1 KO sheet and rename it sheet"
   ]
  },
  {
   "cell_type": "code",
   "execution_count": 4,
   "metadata": {
    "collapsed": false
   },
   "outputs": [],
   "source": [
    "cage_numbers_genotyping = ([]) # initialize an empty set\n",
    "for row in sheet.iter_rows(min_row=2, max_col=7): #iterate through the active worsheet from row 2 to ro 7\n",
    "    (cage_number,acquired_from,date_of_birth,sex_quantity,age,_,genotyping)= row\n",
    "    #assign each row with names in the bracket \n",
    "    if age.value != \"\" and float(age.value)> 23:\n",
    "    # select age number greater than 23 weeks old\n",
    "    #convert string into float because we want integers\n",
    "    #criteria of if statement mean if age value is not equal to an empty string and age value is greater than 23\n",
    "      cage_numbers_genotyping.append((cage_number.value,genotyping.value)) # add all the mice that meet the criteria oultined\n",
    "        \n",
    "    \n"
   ]
  },
  {
   "cell_type": "code",
   "execution_count": 5,
   "metadata": {
    "collapsed": false
   },
   "outputs": [
    {
     "data": {
      "text/plain": [
       "[(None, None),\n",
       " (5517544, None),\n",
       " (5517545, None),\n",
       " (None, None),\n",
       " (5519818, 'all HETs'),\n",
       " (5519864, 'KO'),\n",
       " (5547683, 'KO'),\n",
       " (5547684, 'KO'),\n",
       " (5560136, 'KO'),\n",
       " (5560134, 'Lit'),\n",
       " (5560135, 'Lit'),\n",
       " (5570190, 'Lit'),\n",
       " (5570191, 'Lit'),\n",
       " (5570294, 'KO'),\n",
       " (5570321, 'Lit'),\n",
       " (5570322, 'Lit'),\n",
       " (5579083, 'Lit'),\n",
       " (5579084, 'Lit')]"
      ]
     },
     "execution_count": 5,
     "metadata": {},
     "output_type": "execute_result"
    }
   ],
   "source": [
    "cage_numbers_genotyping # all the cage numbers and genotype of mice of more than 23 weeks of age in the IRF1 KO sheet"
   ]
  },
  {
   "cell_type": "code",
   "execution_count": 6,
   "metadata": {
    "collapsed": true
   },
   "outputs": [],
   "source": [
    "Il12a_KO = wb.get_sheet_by_name (\"IL12a KO\") #get il12a-ko sheet"
   ]
  },
  {
   "cell_type": "code",
   "execution_count": 7,
   "metadata": {
    "collapsed": false
   },
   "outputs": [],
   "source": [
    "TET2_Vill_IL15 = wb.get_sheet_by_name (\"TET2 Vill-IL15\") #get tet2 Villl-IL15 sheet"
   ]
  },
  {
   "cell_type": "code",
   "execution_count": 8,
   "metadata": {
    "collapsed": true
   },
   "outputs": [],
   "source": [
    "JNK2_KO = wb.get_sheet_by_name (\"JNK2 KO\") #get jnk2 ko sheet"
   ]
  },
  {
   "cell_type": "code",
   "execution_count": 9,
   "metadata": {
    "collapsed": false
   },
   "outputs": [],
   "source": [
    "def project(Il12a_KO):\n",
    "    # Write a function that takes as input the sheet il12aKO and return a list of mice of specific age \n",
    "    final_project = []\n",
    "    #create a list to store the results\n",
    "    for row in sheet.iter_rows(min_row=2, max_col=7):\n",
    "        #go through each rows from row 2 to 7\n",
    "        (cage_number,acquired_from,date_of_birth,sex_quantity,age,_,genotyping)= row\n",
    "        if age.value != \"\" and age.value != None and float(age.value)> 23: \n",
    "        #convert string into float\n",
    "        #if age value is not an empty string and is greater than 23\n",
    "        # Fill in within il12a_KO with mice older than 23 weeks old and their genotype\n",
    "            final_project.append((cage_number.value,genotyping.value))\n",
    "    return final_project\n",
    "    \n",
    "\n"
   ]
  },
  {
   "cell_type": "code",
   "execution_count": 10,
   "metadata": {
    "collapsed": false
   },
   "outputs": [
    {
     "data": {
      "text/plain": [
       "[(None, None),\n",
       " (5517544, None),\n",
       " (5517545, None),\n",
       " (None, None),\n",
       " (5519818, 'all HETs'),\n",
       " (5519864, 'KO'),\n",
       " (5547683, 'KO'),\n",
       " (5547684, 'KO'),\n",
       " (5560136, 'KO'),\n",
       " (5560134, 'Lit'),\n",
       " (5560135, 'Lit'),\n",
       " (5570190, 'Lit'),\n",
       " (5570191, 'Lit'),\n",
       " (5570294, 'KO'),\n",
       " (5570321, 'Lit'),\n",
       " (5570322, 'Lit'),\n",
       " (5579083, 'Lit'),\n",
       " (5579084, 'Lit')]"
      ]
     },
     "execution_count": 10,
     "metadata": {},
     "output_type": "execute_result"
    }
   ],
   "source": [
    "project(Il12a_KO) #test function for il12ako sheet"
   ]
  }
 ],
 "metadata": {
  "kernelspec": {
   "display_name": "Python 3",
   "language": "python",
   "name": "python3"
  },
  "language_info": {
   "codemirror_mode": {
    "name": "ipython",
    "version": 3
   },
   "file_extension": ".py",
   "mimetype": "text/x-python",
   "name": "python",
   "nbconvert_exporter": "python",
   "pygments_lexer": "ipython3",
   "version": "3.6.0"
  }
 },
 "nbformat": 4,
 "nbformat_minor": 2
}
