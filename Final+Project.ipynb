{
 "cells": [
  {
   "cell_type": "code",
   "execution_count": 12,
   "metadata": {
    "collapsed": false
   },
   "outputs": [],
   "source": [
    "import openpyxl"
   ]
  },
  {
   "cell_type": "code",
   "execution_count": null,
   "metadata": {
    "collapsed": true
   },
   "outputs": [],
   "source": []
  },
  {
   "cell_type": "code",
   "execution_count": 14,
   "metadata": {
    "collapsed": false
   },
   "outputs": [],
   "source": [
    "wb = openpyxl.load_workbook(\"../ceprika/Desktop/Organized Data for project.xlsx\")\n",
    "     # open the excel workbook and save it as wb\n",
    "     # The openpyxl.load_workbook() function takes in the filename and returns a value of the workbook data type."
   ]
  },
  {
   "cell_type": "code",
   "execution_count": 15,
   "metadata": {
    "collapsed": false
   },
   "outputs": [],
   "source": [
    "sheet = wb.get_sheet_by_name (\"IRF1 KO\")\n",
    "#get and name the IRF1 sheet"
   ]
  },
  {
   "cell_type": "code",
   "execution_count": 16,
   "metadata": {
    "collapsed": false
   },
   "outputs": [],
   "source": [
    "cage_numbers_genotyping = ([])\n",
    "for row in sheet.iter_rows(min_row=2, max_col=7):\n",
    "    (cage_number,acquired_from,date_of_birth,sex_quantity,age,_,genotyping)= row\n",
    "    #assign each row, then select date of birth and print value\n",
    "    if age.value != \"\" and float(age.value)> 23:\n",
    "    #convert string into number with float\n",
    "    #if age value is not an empty string and is greater than 23\n",
    "      cage_numbers_genotyping.append((cage_number.value,genotyping.value))\n",
    "        \n",
    "    \n"
   ]
  },
  {
   "cell_type": "code",
   "execution_count": 17,
   "metadata": {
    "collapsed": false
   },
   "outputs": [
    {
     "data": {
      "text/plain": [
       "[(None, None),\n",
       " (5517544, None),\n",
       " (5517545, None),\n",
       " (None, None),\n",
       " (5519818, 'all HETs'),\n",
       " (5519864, 'KO'),\n",
       " (5547683, 'KO'),\n",
       " (5547684, 'KO'),\n",
       " (5560136, 'KO'),\n",
       " (5560134, 'Lit'),\n",
       " (5560135, 'Lit'),\n",
       " (5570190, 'Lit'),\n",
       " (5570191, 'Lit'),\n",
       " (5570294, 'KO'),\n",
       " (5570321, 'Lit'),\n",
       " (5570322, 'Lit'),\n",
       " (5579083, 'Lit'),\n",
       " (5579084, 'Lit')]"
      ]
     },
     "execution_count": 17,
     "metadata": {},
     "output_type": "execute_result"
    }
   ],
   "source": [
    "cage_numbers_genotyping"
   ]
  },
  {
   "cell_type": "code",
   "execution_count": 18,
   "metadata": {
    "collapsed": true
   },
   "outputs": [],
   "source": [
    "Il12a_KO = wb.get_sheet_by_name (\"IL12a KO\")"
   ]
  },
  {
   "cell_type": "code",
   "execution_count": 19,
   "metadata": {
    "collapsed": false
   },
   "outputs": [],
   "source": [
    "TET2_Vill_IL15 = wb.get_sheet_by_name (\"TET2 Vill-IL15\")"
   ]
  },
  {
   "cell_type": "code",
   "execution_count": 20,
   "metadata": {
    "collapsed": true
   },
   "outputs": [],
   "source": [
    "JNK2_KO = wb.get_sheet_by_name (\"JNK2 KO\")"
   ]
  },
  {
   "cell_type": "code",
   "execution_count": 21,
   "metadata": {
    "collapsed": false
   },
   "outputs": [],
   "source": [
    "def project(Il12a_KO):\n",
    "    #Take as input the sheet il12aKO and return a list of mice of specific age \n",
    "    final_project = []\n",
    "    #create a list to store the results\n",
    "    for row in sheet.iter_rows(min_row=2, max_col=7):\n",
    "        #go through each rows\n",
    "        (cage_number,acquired_from,date_of_birth,sex_quantity,age,_,genotyping)= row\n",
    "        #assign each row \n",
    "        if age.value != \"\" and age.value != None and float(age.value)> 23: \n",
    "        #convert string into number with float\n",
    "        #if age value is not an empty string and is greater than 23\n",
    "        # Fill in within il12a_KO with mice older than 23 weeks old and genotype\n",
    "            final_project.append((cage_number.value,genotyping.value))\n",
    "    return final_project\n",
    "    \n",
    "\n"
   ]
  },
  {
   "cell_type": "code",
   "execution_count": 22,
   "metadata": {
    "collapsed": false
   },
   "outputs": [
    {
     "data": {
      "text/plain": [
       "[(None, None),\n",
       " (5517544, None),\n",
       " (5517545, None),\n",
       " (None, None),\n",
       " (5519818, 'all HETs'),\n",
       " (5519864, 'KO'),\n",
       " (5547683, 'KO'),\n",
       " (5547684, 'KO'),\n",
       " (5560136, 'KO'),\n",
       " (5560134, 'Lit'),\n",
       " (5560135, 'Lit'),\n",
       " (5570190, 'Lit'),\n",
       " (5570191, 'Lit'),\n",
       " (5570294, 'KO'),\n",
       " (5570321, 'Lit'),\n",
       " (5570322, 'Lit'),\n",
       " (5579083, 'Lit'),\n",
       " (5579084, 'Lit')]"
      ]
     },
     "execution_count": 22,
     "metadata": {},
     "output_type": "execute_result"
    }
   ],
   "source": [
    "project(Il12a_KO)"
   ]
  },
  {
   "cell_type": "code",
   "execution_count": 1,
   "metadata": {
    "collapsed": true
   },
   "outputs": [],
   "source": []
  },
  {
   "cell_type": "code",
   "execution_count": null,
   "metadata": {
    "collapsed": true
   },
   "outputs": [],
   "source": []
  }
 ],
 "metadata": {
  "kernelspec": {
   "display_name": "Python 3",
   "language": "python",
   "name": "python3"
  },
  "language_info": {
   "codemirror_mode": {
    "name": "ipython",
    "version": 3
   },
   "file_extension": ".py",
   "mimetype": "text/x-python",
   "name": "python",
   "nbconvert_exporter": "python",
   "pygments_lexer": "ipython3",
   "version": "3.6.0"
  }
 },
 "nbformat": 4,
 "nbformat_minor": 2
}
